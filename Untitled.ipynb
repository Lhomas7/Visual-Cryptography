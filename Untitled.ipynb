{
 "cells": [
  {
   "cell_type": "markdown",
   "id": "161d1ff9-da6c-41a3-9001-2cdf95deefe5",
   "metadata": {},
   "source": [
    "$$\\text{\\huge Introduction}$$"
   ]
  },
  {
   "cell_type": "markdown",
   "id": "c095b302-8845-456e-9a6e-bd0fee8442a3",
   "metadata": {},
   "source": [
    "Have you ever wanted to show a picture to someone, but only allow for the two of you to see it? One way to do so is through a visual cryptograhy scheme (VCS), which will divide an original image $\\text{IC}$ into two shares, allocated to two participants. Both participants must meet in order to decode $\\text{IC}$. In this particular example, we are discussing a 2 out of 2 VCS, where 2 total shares are given to 2 parties and both parties must meet in order to decode the original image. We will discuss a standard modeling for a (2,2) VCS, then demonstrate a way to represent the scheme in python code."
   ]
  },
  {
   "cell_type": "markdown",
   "id": "da6d2fe9-adca-4713-b5cf-27c9d617ce1e",
   "metadata": {},
   "source": [
    "$$\\text{\\huge Modeling Our Scheme}$$                                                "
   ]
  },
  {
   "cell_type": "markdown",
   "id": "c5a770ee-bf40-41d4-8b8e-3da42a7f1fab",
   "metadata": {},
   "source": [
    "\n",
    "In the (2,2) VCS, we will define our set of participants as $\\mathcal{P}$, s.t. $\\mathcal{P}$ = {1, 2}. $2^\\mathcal{P}$ denotes all subsets of $\\mathcal{P}$, refered to as the powerset of $\\mathcal{P}$. Next we define $\\Gamma_{qual} \\subseteq 2^\\mathcal{P}$ where $\\Gamma_{qual}$ contains all sets of combined participants that must meet in order to recover the original image. $\\Gamma_{qual}$ is called the set of \"qualified families.\" The counterpart to $\\Gamma_{qual}$ is $\\Gamma_{forb} \\subseteq 2^\\mathcal{P}$, the set of \"forbidden families\" of $\\mathcal{P}$ that cannot recover the original image, and $\\Gamma_{qual} \\cap \\Gamma_{forb} = \\emptyset$, and $\\Gamma_{qual} \\cup \\Gamma_{forb} = 2^\\mathcal{P}$. For the sake of our specific scheme: $$\\Gamma_{qual} = \\{\\{1, 2\\}\\}$$ and  $$\\Gamma_{forb} = \\{\\{1\\},\\{2\\}\\}$$ The pair ($\\Gamma_{qual}, \\Gamma_{forb}$) is reffered to as the access structure of the scheme. This means that $\\forall X \\in \\Gamma_{qual}$, $\\text{IC}$ can be recovered, and $\\forall X \\in \\Gamma_{forb}$, $\\text{IC}$ cannot be recovered. each $ p \\in \\mathcal{P}$, will receive a share of each pixel of the orignal image assigned uniformly at random. In the case of the (2,2) VCS, particpants 1 and 2 are uniformly at random allocated an encoded pixel for all of the original pixels in the original image. Each pixel is represented by 4  black and white subpixels, which can be further represented by a binary matrix $M$, where a 1 represents a black subpixel and a 0 represents a white subpixel. In our scheme, each pixel's orientation will be either a \"black\" orientation $b$ or a \"white\" orientation $w$, while schemes with a larger amount of particpants may contain more orientations. We also want the relative difference $\\alpha$ and the contrast $\\alpha \\cdot 4$ to be as large as possible, constituting a VCS that can be visually recognized with minimal \"fuzziness.\" In this case with two orientations of pixels, $\\alpha = \\frac{1}{4}$ and $\\alpha \\cdot m = \\frac{1}{4} \\cdot 4 = 1$. The relative difference, and therefore the contrast, can be calculated easily be comparing the number of black or white pixels to a pixel of a given share. Finally, to model each pixel so that we can recover the original image through overlaying, the orientations are done in a special way. A $b$ pixel's matrix representation is: $$\\begin{pmatrix} 1 &0\\\\ 0 &1 \\end{pmatrix}$$ and a $w$ pixel's matrix representation is: $$\\begin{pmatrix} 0 &1\\\\ 1 &0 \\end{pmatrix}$$ The participant matrix $M$ is a $|\\mathcal{P}|$ x 4 matrix representing each participant's randomly assigned pixel for all pixels in the image. Each row $i$ is a row condensed form of the $b$ or $w$ binary matrix. For example, if particpant 1 received a $b$ pixel and participant 2 received a $w$ pixel, the $M$ matrix would be: $$\\begin{pmatrix} 1 &0 &0 &1 \\\\ 0 &1 &1 &0 \\end{pmatrix}$$ Utilizing the shares of both participants, we can decrypt the original image through overlaying the shares of participants in qualifying sets.\n",
    "\n"
   ]
  },
  {
   "cell_type": "markdown",
   "id": "8cc3ba64-3c69-4a05-8104-2cdbf897a95f",
   "metadata": {},
   "source": [
    "$$\\text{\\huge Decoding}$$"
   ]
  },
  {
   "cell_type": "markdown",
   "id": "96702fb8-663a-45b3-8841-b6bb0ad8e372",
   "metadata": {},
   "source": [
    "When the two particpants meet, the decoding of the original image is done by the human visual system by overlaying the shares. However to represent this mathematically, we will use a form of matrix addition. The summation of two matrices is s.t. if the binary matrices are equivalent: $$\\begin{pmatrix} 1 &0\\\\ 0 &1 \\end{pmatrix} + \\begin{pmatrix} 1 &0\\\\ 0 &1 \\end{pmatrix} = \\begin{pmatrix} 1 &0\\\\ 0 &1 \\end{pmatrix}$$ $$\\begin{pmatrix} 0 &1\\\\ 1 &0 \\end{pmatrix} + \\begin{pmatrix} 0 &1\\\\ 1 &0 \\end{pmatrix} = \\begin{pmatrix} 0 &1\\\\ 1 &0 \\end{pmatrix}$$ and when the matrixces are different: $$\\begin{pmatrix} 1 &0\\\\ 0 &1 \\end{pmatrix} + \\begin{pmatrix} 0 &1\\\\ 1 &0 \\end{pmatrix} = \\begin{pmatrix} 1 &1\\\\ 1 &1 \\end{pmatrix}$$ The resulting matrices contain all 1's or 1's and zeros, creating a contrast between two pixels two enable for seeing a black pixel or a white pixel that has a slightly grey color. Given knowledge on one of the shares and orientations, we are unable to decode the original pixel. To prove this, we will analyze the security of the scheme."
   ]
  },
  {
   "cell_type": "markdown",
   "id": "800b376c-7c19-414e-8f61-9f0c0658a9e2",
   "metadata": {},
   "source": [
    "$$\\text{\\huge Security}$$"
   ]
  },
  {
   "cell_type": "markdown",
   "id": "18ab112b-eeae-4c6f-989c-567ad9cf30cc",
   "metadata": {},
   "source": [
    "Now that we have demonstrated how to decode our image, we must next prove that it is secure. Consider a (2,2) VCS scheme with particpants $p_1$ and $p_2$ and an original image OI that is currently unknown. Let $S$ be a random variable of the set $\\{b, w\\}$. Then $p_1$'s first pixel $a$ and $p_2$'s first pixel $c$ are each either $b$ oriented or $w$ oriented such that $P_r[S = a] = \\frac{1}{2}$ and $P_r[S = c] = \\frac{1}{2}$. We want to show that for either pixel, $P_r[S = a | S = c]$ = $\\frac{1}{2}$. First, let us consider $P_r[a = b]$. We can expand this using Baye's Theorem: $$P_r[a = b] = P_r[a = b|c = b] \\cdot P_r[c = b] + P_r[a = b|c = w] \\cdot P_r[c = w]$$ Since $P_r[S = a] = \\frac{1}{2}$ and $P_r[S = c] = \\frac{1}{2}$, we can rewrite the equation as $$P_r[a = b] = P_r[a = b|c = b] \\cdot \\frac{1}{2}  + P_r[a = b|c = w] \\cdot \\frac{1}{2}$$  $$= \\frac{1}{2}(P_r[a = b|c = b] + P_r[a = b|c = w])$$ $$= \\frac{1}{2} (1)$$ $$= \\frac{1}{2}$$ As shown, the probability of $p_1$'s first pixel being $b$ oriented does not change when the orientation of $p_2$'s first pixel is known. This process can be repeated for the remaining values of $a$ and $c$ to encompass the entire scheme, where each will equal $\\frac{1}{2}$. Thus, our scheme is both secure and decodable."
   ]
  },
  {
   "cell_type": "markdown",
   "id": "3abece04-c3b8-4098-94ed-c521a94e94e4",
   "metadata": {},
   "source": [
    "$$\\text{\\huge Coding}$$"
   ]
  },
  {
   "cell_type": "markdown",
   "id": "23539318-55b8-4e72-b817-a604c1fa3bb0",
   "metadata": {},
   "source": [
    "Although there is mathematical insight behind a VCS, the real beauty of it lies in the visual implementation. One way to demonstrate this is through a Python based program. What we first need to do is import the Image module from PIL, and the random module. Ensure that Pillow is installed before proceeding, and that your choice of image is in black and white. "
   ]
  },
  {
   "cell_type": "code",
   "execution_count": 1,
   "id": "6be96251-5dc7-4353-8235-fdb2f4506cef",
   "metadata": {},
   "outputs": [],
   "source": [
    "from PIL import Image\n",
    "import random"
   ]
  },
  {
   "cell_type": "markdown",
   "id": "97735163-5c4c-41b9-a264-1f2e087d25f9",
   "metadata": {},
   "source": [
    "This will enable us to handle our image. What we will next do is define a function to place a black or white pixel into each share, using the specified x and y value and corresponding pixel values."
   ]
  },
  {
   "cell_type": "code",
   "execution_count": 2,
   "id": "11056792-d80c-4fc2-855f-2deca9fc3177",
   "metadata": {},
   "outputs": [],
   "source": [
    "#places the pixel values corresponding to the share at the specified height and width\n",
    "def place_image_pixels(share1, share2, pixel1, pixel2, width, height):\n",
    "\n",
    "    #place share1's pixels in the binary matrix\n",
    "    share1.putpixel((width * 2, height * 2), pixel1[0][0])\n",
    "    share1.putpixel((width * 2 + 1, height * 2), pixel1[1][0])\n",
    "    share1.putpixel((width * 2, height * 2 + 1), pixel1[0][1])\n",
    "    share1.putpixel((width * 2 + 1, height * 2 + 1), pixel1[1][1])\n",
    "\n",
    "    #place share1's pixels in the binary matrix\n",
    "    share2.putpixel((width * 2, height * 2), pixel2[0][0])\n",
    "    share2.putpixel((width * 2 + 1, height * 2), pixel2[1][0])\n",
    "    share2.putpixel((width * 2, height * 2 + 1), pixel2[0][1])\n",
    "    share2.putpixel((width * 2 + 1, height * 2 + 1), pixel2[1][1])"
   ]
  },
  {
   "cell_type": "markdown",
   "id": "e90939af-b1ac-4307-b5cd-1ccd8bc12fdc",
   "metadata": {},
   "source": [
    "This function randomly chooses using the choose method from the random module which share receives which color of pixel. It distinuishes if they receive the same color or not to ensure the recovered image will be formed properly in the previously defined recovery function."
   ]
  },
  {
   "cell_type": "code",
   "execution_count": 3,
   "id": "388e1690-13dd-40f9-97de-4d091c37a97d",
   "metadata": {},
   "outputs": [],
   "source": [
    "#randomly allocate the two images and place pixels accordingly\n",
    "def allocate_images(image_path, share1_path, share2_path):\n",
    "    \n",
    "    #opens the original image in binary format that creates two new shares \n",
    "    #such that the pixels can be represented in boolean matrix form\n",
    "    img = Image.open(image_path).convert(\"1\")  # open in binary mode\n",
    "    width, height = img.size\n",
    "    share1 = Image.new(\"1\", (width * 2, height * 2))\n",
    "    share2 = Image.new(\"1\", (width * 2, height * 2))\n",
    "\n",
    "    #define black and white boolean matrices\n",
    "    white_pixel = [(0, 1), (1, 0)]\n",
    "    black_pixel = [(1, 0), (0, 1)]\n",
    "\n",
    "    #loop through pixels in original image\n",
    "    for x in range(width):\n",
    "        for y in range(height):\n",
    "\n",
    "            #get the original pixel\n",
    "            pixel = img.getpixel((x, y))\n",
    "\n",
    "            #randomly choose between 1 and 0 (black and white)\n",
    "            option = random.choice([0,1])\n",
    "\n",
    "            #if the pixel is 1 (white), choose randomly to make both shares have the same pixel \n",
    "            #value, being either black or white\n",
    "            if pixel:\n",
    "            # Draw the encrypted subpixels on the shares\n",
    "                if option: \n",
    "                    place_image_pixels(share1, share2, white_pixel, white_pixel, x, y)\n",
    "                else:\n",
    "                    place_image_pixels(share1, share2, black_pixel, black_pixel, x, y)\n",
    "            #otherwise, randomly assign each share with the opposite pixel color of the other one.        \n",
    "            else:\n",
    "                if option:\n",
    "                    place_image_pixels(share1, share2, white_pixel, black_pixel, x, y)\n",
    "                else:\n",
    "                    place_image_pixels(share1, share2, black_pixel, white_pixel, x, y)\n",
    "\n",
    "    #save the new shares\n",
    "    share1.save(share1_path)\n",
    "    share2.save(share2_path)"
   ]
  },
  {
   "cell_type": "markdown",
   "id": "88c6c820-7a29-4534-963a-f7975700bb17",
   "metadata": {},
   "source": [
    "Now let us define the last function to decrypt the images. Doing so will reveal the original image with a lower contrast as the modified black and white pixel structures are slightly grey in color, however to the naked eye the contrast is barely noticeable. "
   ]
  },
  {
   "cell_type": "code",
   "execution_count": 1,
   "id": "a5637dd8-4007-4ead-ab48-28a9e17bc1e1",
   "metadata": {},
   "outputs": [],
   "source": [
    "#computational representation of the recover function\n",
    "def recover_images(share1_path, share2_path, decrypted_path):\n",
    "    \n",
    "    #open both shares in binary mode, and get the dimensions for reference\n",
    "    share1 = Image.open(share1_path).convert(\"1\")\n",
    "    share2 = Image.open(share2_path).convert(\"1\")\n",
    "    width, height = share1.size\n",
    "\n",
    "    #declare new image to overlay shares and decrypt\n",
    "    decrypted_img = Image.new(\"1\", (width, height))\n",
    "\n",
    "    #iterate through pixels in both shares\n",
    "    for x in range(width):\n",
    "        for y in range(height):\n",
    "\n",
    "            #get the corresponding pixels of both shares\n",
    "            pixel1 = share1.getpixel((x, y))\n",
    "            pixel2 = share2.getpixel((x, y))\n",
    "            # overlay pixels\n",
    "            if not pixel1 or not pixel2:\n",
    "                decrypted_pixel = 1\n",
    "            else:\n",
    "                decrypted_pixel = 0\n",
    "            #place the new pixel in the spot in the decrypted image\n",
    "            decrypted_img.putpixel((x, y), decrypted_pixel)\n",
    "    \n",
    "    #save the image\n",
    "    decrypted_img.save(decrypted_path)"
   ]
  },
  {
   "cell_type": "markdown",
   "id": "e555d018-0ede-48ec-b20a-830501188b60",
   "metadata": {},
   "source": [
    "You can give this a try by running the encrypt function first on a binary image, and then the decrypt function on the two shares created from encryption. An example image is provided to test the functions on, first by encrypting the image into two shares then decrypting those two shares back to the original image. "
   ]
  }
 ],
 "metadata": {
  "kernelspec": {
   "display_name": "Python 3 (ipykernel)",
   "language": "python",
   "name": "python3"
  },
  "language_info": {
   "codemirror_mode": {
    "name": "ipython",
    "version": 3
   },
   "file_extension": ".py",
   "mimetype": "text/x-python",
   "name": "python",
   "nbconvert_exporter": "python",
   "pygments_lexer": "ipython3",
   "version": "3.13.2"
  }
 },
 "nbformat": 4,
 "nbformat_minor": 5
}
